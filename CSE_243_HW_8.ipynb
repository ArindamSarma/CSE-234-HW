{
  "nbformat": 4,
  "nbformat_minor": 0,
  "metadata": {
    "colab": {
      "name": "CSE 243 HW 8.ipynb",
      "provenance": [],
      "collapsed_sections": [],
      "authorship_tag": "ABX9TyO3r/QUTEMHLULVTOeRLikD",
      "include_colab_link": true
    },
    "kernelspec": {
      "name": "python3",
      "display_name": "Python 3"
    }
  },
  "cells": [
    {
      "cell_type": "markdown",
      "metadata": {
        "id": "view-in-github",
        "colab_type": "text"
      },
      "source": [
        "<a href=\"https://colab.research.google.com/github/ArindamSarma/CSE-234-HW/blob/master/CSE_243_HW_8.ipynb\" target=\"_parent\"><img src=\"https://colab.research.google.com/assets/colab-badge.svg\" alt=\"Open In Colab\"/></a>"
      ]
    },
    {
      "cell_type": "code",
      "metadata": {
        "id": "usVxcFx2nfQU",
        "colab_type": "code",
        "colab": {}
      },
      "source": [
        "def ext_euclidean(a, b):\n",
        "\n",
        "    t = u = 1\n",
        "    s = v = 0\n",
        "    while b:\n",
        "        a, (q, b) = b, divmod(a, b)\n",
        "        u, s = s, u - q * s\n",
        "        v, t = t, v - q * t\n",
        "    return a, u, v\n",
        "\n",
        "\n",
        "class Point:\n",
        "\n",
        "    def __init__(self, x, y):\n",
        "\n",
        "        self.x = x\n",
        "        self.y = y\n",
        "\n",
        "    def __str__(self):\n",
        "\n",
        "        return '(' + str(self.x) + ', ' + str(self.y) + ')'\n",
        "\n",
        "    def __eq__(self, p):\n",
        "\n",
        "        if type(self) != type(p):\n",
        "            return False\n",
        "        if self.x == p.x and self.y == p.y:\n",
        "            return True\n",
        "        return False\n",
        "\n",
        "\n",
        "class EllipticCurve:\n",
        "\n",
        "    def __init__(self, a, b, m):\n",
        "\n",
        "        self.a = a\n",
        "        self.b = b\n",
        "        self.m = m\n",
        "\n",
        "    def add(self, p, q):\n",
        "        if p == None:\n",
        "            return q\n",
        "        if q == None:\n",
        "            return p\n",
        "        numerator = (q.y - p.y) % self.m\n",
        "        denominator = (q.x - p.x) % self.m\n",
        "        if denominator == 0:\n",
        "            if p == q:\n",
        "                if p.y == 0:\n",
        "                    return None\n",
        "                inv = ext_euclidean(2 * p.y, self.m)[1]\n",
        "                slope = inv * (3 * p.x ** 2 + self.a) % self.m\n",
        "            else:\n",
        "                return None  \n",
        "        else:\n",
        "            inv = ext_euclidean(denominator, self.m)[1]\n",
        "            slope = inv * numerator % self.m\n",
        "        xr = (slope ** 2 - (p.x + q.x)) % self.m\n",
        "        yr = (slope * (p.x - xr) - p.y) % self.m\n",
        "        return Point(xr, yr)\n",
        "\n",
        "    def mul(self, p, n):\n",
        "        r = None\n",
        "        for b in bin(n)[2:]:\n",
        "            r = self.add(r, r)\n",
        "            if b == '1':\n",
        "                r = self.add(r, p)\n",
        "        return r\n",
        "\n",
        "\n",
        "\n",
        "\n",
        "\n"
      ],
      "execution_count": 0,
      "outputs": []
    },
    {
      "cell_type": "code",
      "metadata": {
        "id": "81QCJuQfN33R",
        "colab_type": "code",
        "colab": {
          "base_uri": "https://localhost:8080/",
          "height": 129
        },
        "outputId": "4a7df5f1-6e99-4683-ae0e-39afc0064a7f"
      },
      "source": [
        "p = 6864797660130609714981900799081393217269435300143305409394463459185543183397656052122559640661454554977296311391480858037121987999716643812574028291115057151\n",
        "n = 6864797660130609714981900799081393217269435300143305409394463459185543183397655394245057746333217197532963996371363321113864768612440380340372808892707005449\n",
        "a = 6864797660130609714981900799081393217269435300143305409394463459185543183397656052122559640661454554977296311391480858037121987999716643812574028291115057148 % p\n",
        "b = 1093849038073734274511112390766805569936207598951683748994586394495953116150735016013708737573759623248592132296706313309438452531591012912142327488478985984 % p\n",
        "Gx = 2661740802050217063228768716723360960729859168756973147706671368418802944996427808491545080627771902352094241225065558662157113545570916814161637315895999846 % p\n",
        "Gy = 3757180025770020463545507224491183603594455134769762486694567779615544477440556316691234405012945539562144444537289428522585666729196580810124344277578376784 % p \n",
        "\n",
        "\n",
        "ec = EllipticCurve(a, b, p)\n",
        "\n",
        "gen = Point(Gx, Gy)\n",
        "\n",
        "alice_private = 814709178348331822963098404943044035246972495353080501869149056740241 \n",
        "bob_private = 1016189342726403936529228449371555925007815563308599801179551629341341\n",
        "\n",
        "alice_public = ec.mul(gen, alice_private)\n",
        "print(\"alice public key:\", alice_public)\n",
        "\n",
        "bob_public = B = ec.mul(gen, bob_private)\n",
        "print(\"bob public key:\", bob_public) \n",
        "\n",
        "alice_shared_key = ec.mul(bob_public, alice_private).x\n",
        "print(\"alice shared key:\", alice_shared_key)\n",
        "\n",
        "bob_shared_key = ec.mul(alice_public, bob_private).x\n",
        "print(\"bob shared key:\", bob_shared_key)\n",
        "\n",
        "sum_public = ec.add(alice_public, bob_public)\n",
        "print(\"sum of public keys\", sum_public)"
      ],
      "execution_count": 25,
      "outputs": [
        {
          "output_type": "stream",
          "text": [
            "alice public key: (1044303082331288333042920371742208774368155616296279065786423243070042275332732136363264652882200217061336900529157064346771811607632904560265846182493697624, 6730016909271769053897907753290829330809425963797605769853369810434278775560759851736336603039323983790910905138401345628507206516496489668105028448323383009)\n",
            "bob public key: (5718419403644844610833599874967853512665697031913371072578001578978167810972857352497035598620709458817659568769905951977392840839865125603374463180503684656, 5146090798345568530884039262355125849229685323300901896331000538531014502583072954851119177218634029732278856706003599116733600206934060218548319836624316850)\n",
            "alice shared key: 5554501709641722286443533888120161079362589870806449361292055404302521258459655288746670448272978103536337006842945731281500164474201110940499186364905930645\n",
            "bob shared key: 5554501709641722286443533888120161079362589870806449361292055404302521258459655288746670448272978103536337006842945731281500164474201110940499186364905930645\n",
            "sum of public keys (2059906171831621816013242333238034527254843343924970910376023825082774145866200582559036240198585479838047025715972637066174575106083935385695375016417373614, 2589763981006329102435878194252564210561179685453240260977551481324410079889873455825703489597643013718209644866277317612852902949982775047919371477252352889)\n"
          ],
          "name": "stdout"
        }
      ]
    },
    {
      "cell_type": "markdown",
      "metadata": {
        "id": "BjWPkSX7Fo3t",
        "colab_type": "text"
      },
      "source": [
        "Used \"Square roots from 1; 24, 51, 10 to Dan Shanks\" by Ezra Brown as a reference:  https://www.maa.org/sites/default/files/pdf/upload_library/22/Polya/07468342.di020786.02p0470a.pdf, as well as https://en.wikipedia.org/wiki/Tonelli%E2%80%93Shanks_algorithm\n"
      ]
    },
    {
      "cell_type": "code",
      "metadata": {
        "id": "bfKJy-4kFnJt",
        "colab_type": "code",
        "colab": {}
      },
      "source": [
        "def legendre_symbol(a, p):\n",
        "    return pow(a, (p - 1) // 2, p)\n",
        "  \n",
        "def modInverse(a, m): \n",
        "    a = a % m; \n",
        "    for x in range(1, m) : \n",
        "        if ((a * x) % m == 1) : \n",
        "            return x \n",
        "    return 1\n",
        " \n",
        "def tonelli_shanks(n, p):\n",
        "    q = p - 1\n",
        "    s = 0\n",
        "    while q % 2 == 0:\n",
        "        q //= 2\n",
        "        s += 1\n",
        "    if s == 1:\n",
        "        return pow(n, (p + 1) // 4, p)\n",
        "    for z in range(2, p):\n",
        "        if p - 1 == legendre_symbol(z, p):\n",
        "            break\n",
        "    c = pow(z, q, p)\n",
        "    r = pow(n, (q + 1) // 2, p)\n",
        "    t = pow(n, q, p)\n",
        "    m = s\n",
        "    t2 = 0\n",
        "    while (t - 1) % p != 0:\n",
        "        t2 = (t * t) % p\n",
        "        for i in range(1, m):\n",
        "            if (t2 - 1) % p == 0:\n",
        "                break\n",
        "            t2 = (t2 * t2) % p\n",
        "        b = pow(c, 1 << (m - i - 1), p)\n",
        "        r = (r * b) % p\n",
        "        c = (b * b) % p\n",
        "        t = (t * c) % p\n",
        "        m = i\n",
        "    return r"
      ],
      "execution_count": 0,
      "outputs": []
    },
    {
      "cell_type": "code",
      "metadata": {
        "id": "YU2kYtb7G5do",
        "colab_type": "code",
        "colab": {
          "base_uri": "https://localhost:8080/",
          "height": 90
        },
        "outputId": "f95d0f28-e5b8-4e39-b885-89fdfb43dc71"
      },
      "source": [
        "p = 407426149192123516349916653686361706730690466158799531798401\n",
        "n = 5\n",
        "r = tonelli_shanks(n, p)\n",
        "print(r)\n",
        "test_r_squared = pow(r,2,p)\n",
        "print(test_r_squared)\n",
        "neg_r = (-1*r)%p\n",
        "print(neg_r)\n",
        "test_neg_r_squared = pow(neg_r,2,p)\n",
        "print(test_neg_r_squared)"
      ],
      "execution_count": 21,
      "outputs": [
        {
          "output_type": "stream",
          "text": [
            "403534680041342292531656861460378171833866469000243831072020\n",
            "5\n",
            "3891469150781223818259792225983534896823997158555700726381\n",
            "5\n"
          ],
          "name": "stdout"
        }
      ]
    }
  ]
}