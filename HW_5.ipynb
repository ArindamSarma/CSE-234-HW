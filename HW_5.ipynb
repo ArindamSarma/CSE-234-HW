{
  "nbformat": 4,
  "nbformat_minor": 0,
  "metadata": {
    "colab": {
      "name": "HW-5.ipynb",
      "provenance": [],
      "authorship_tag": "ABX9TyMYMnuhSd3p1OwrmMYfrrIH",
      "include_colab_link": true
    },
    "kernelspec": {
      "name": "python3",
      "display_name": "Python 3"
    }
  },
  "cells": [
    {
      "cell_type": "markdown",
      "metadata": {
        "id": "view-in-github",
        "colab_type": "text"
      },
      "source": [
        "<a href=\"https://colab.research.google.com/github/ArindamSarma/CSE-234-HW/blob/master/HW_5.ipynb\" target=\"_parent\"><img src=\"https://colab.research.google.com/assets/colab-badge.svg\" alt=\"Open In Colab\"/></a>"
      ]
    },
    {
      "cell_type": "code",
      "metadata": {
        "id": "Cc7xX_Qra0YA",
        "colab_type": "code",
        "colab": {}
      },
      "source": [
        "import sympy\n",
        "import math\n",
        "import binascii"
      ],
      "execution_count": 0,
      "outputs": []
    },
    {
      "cell_type": "markdown",
      "metadata": {
        "id": "oJHbpo2ksebl",
        "colab_type": "text"
      },
      "source": [
        "3: Alice Encryption"
      ]
    },
    {
      "cell_type": "code",
      "metadata": {
        "id": "GGWQMvqhbDVR",
        "colab_type": "code",
        "colab": {}
      },
      "source": [
        "n = 900348238029332668175881559281442423068410198618801978249457479037932527260331"
      ],
      "execution_count": 0,
      "outputs": []
    },
    {
      "cell_type": "code",
      "metadata": {
        "id": "XkiqHrLQa4TM",
        "colab_type": "code",
        "colab": {}
      },
      "source": [
        "e = pow(2,16) + 1"
      ],
      "execution_count": 0,
      "outputs": []
    },
    {
      "cell_type": "code",
      "metadata": {
        "id": "au6VZCZstZSv",
        "colab_type": "code",
        "colab": {}
      },
      "source": [
        "plaintext = 39611541800605679895240898832274013906789"
      ],
      "execution_count": 0,
      "outputs": []
    },
    {
      "cell_type": "code",
      "metadata": {
        "id": "9rNNRMXvttRy",
        "colab_type": "code",
        "colab": {}
      },
      "source": [
        "ciphertext = pow(plaintext, e, n)"
      ],
      "execution_count": 0,
      "outputs": []
    },
    {
      "cell_type": "code",
      "metadata": {
        "id": "df8sgbD5tt0i",
        "colab_type": "code",
        "outputId": "eb01d528-a191-4783-c980-b354a007d58b",
        "colab": {
          "base_uri": "https://localhost:8080/",
          "height": 35
        }
      },
      "source": [
        "print(ciphertext)"
      ],
      "execution_count": 0,
      "outputs": [
        {
          "output_type": "stream",
          "text": [
            "567255754219853422527637315727912591939082374182942838414119080807427267604202\n"
          ],
          "name": "stdout"
        }
      ]
    },
    {
      "cell_type": "markdown",
      "metadata": {
        "id": "66pqclkzuITN",
        "colab_type": "text"
      },
      "source": [
        "4: Bob Decryption"
      ]
    },
    {
      "cell_type": "code",
      "metadata": {
        "id": "vheR3_YbtuGh",
        "colab_type": "code",
        "colab": {}
      },
      "source": [
        "p = 929960838713976909720407931803976852619\n",
        "q = 808840137850295240473898249118645909517"
      ],
      "execution_count": 0,
      "outputs": []
    },
    {
      "cell_type": "code",
      "metadata": {
        "id": "n8yLySaNtuXj",
        "colab_type": "code",
        "colab": {}
      },
      "source": [
        "n = p * q"
      ],
      "execution_count": 0,
      "outputs": []
    },
    {
      "cell_type": "code",
      "metadata": {
        "id": "5vg8huNDtuqC",
        "colab_type": "code",
        "outputId": "e4de50d2-d589-4cd0-8d9f-7bdf254201f8",
        "colab": {
          "base_uri": "https://localhost:8080/",
          "height": 35
        }
      },
      "source": [
        "print(n)"
      ],
      "execution_count": 0,
      "outputs": [
        {
          "output_type": "stream",
          "text": [
            "752189652980789262458700484276849008755691233176648072497818908367596318475023\n"
          ],
          "name": "stdout"
        }
      ]
    },
    {
      "cell_type": "code",
      "metadata": {
        "id": "MHXLtdGfbGQf",
        "colab_type": "code",
        "colab": {}
      },
      "source": [
        "phi_n = (p-1)*(q-1)"
      ],
      "execution_count": 0,
      "outputs": []
    },
    {
      "cell_type": "code",
      "metadata": {
        "id": "lvp5Q0LYbrAW",
        "colab_type": "code",
        "outputId": "02d9dda9-6f09-4eca-9d2d-b33b34f1f027",
        "colab": {
          "base_uri": "https://localhost:8080/",
          "height": 35
        }
      },
      "source": [
        "print(phi_n)"
      ],
      "execution_count": 0,
      "outputs": [
        {
          "output_type": "stream",
          "text": [
            "752189652980789262458700484276849008753952432200083800347624602186673695712888\n"
          ],
          "name": "stdout"
        }
      ]
    },
    {
      "cell_type": "code",
      "metadata": {
        "id": "N1wd6Ulhb439",
        "colab_type": "code",
        "colab": {}
      },
      "source": [
        "# used https://en.wikipedia.org/wiki/Extended_Euclidean_algorithm#Pseudocode and https://en.wikibooks.org/wiki/Algorithm_Implementation/Mathematics/Extended_Euclidean_algorithm#Recursive_algorithm_2\n",
        "def egcd(a, b):\n",
        "    \"\"\"return (g, x, y) such that a*x + b*y = g = gcd(a, b)\"\"\"\n",
        "    if a == 0:\n",
        "        return (b, 0, 1)\n",
        "    else:\n",
        "        b_div_a, b_mod_a = divmod(b, a)\n",
        "        g, x, y = egcd(b_mod_a, a)\n",
        "        return (g, y - b_div_a * x, x)"
      ],
      "execution_count": 0,
      "outputs": []
    },
    {
      "cell_type": "code",
      "metadata": {
        "id": "Hm9XKF12zhHL",
        "colab_type": "code",
        "outputId": "de47f1ab-200f-4a58-dd39-2f745bb45ead",
        "colab": {
          "base_uri": "https://localhost:8080/",
          "height": 35
        }
      },
      "source": [
        "_, x, _= egcd(e, phi_n)\n",
        "d = x % phi_n\n",
        "print(d)"
      ],
      "execution_count": 0,
      "outputs": [
        {
          "output_type": "stream",
          "text": [
            "322627693444771444645224386423275792850963621605266576556322803415893275348113\n"
          ],
          "name": "stdout"
        }
      ]
    },
    {
      "cell_type": "code",
      "metadata": {
        "id": "Ja5nRrHmgU5B",
        "colab_type": "code",
        "outputId": "d9209a00-84a8-4ca9-a96f-a36ec5f48be3",
        "colab": {
          "base_uri": "https://localhost:8080/",
          "height": 35
        }
      },
      "source": [
        "ciphertext = 159734044950403172452950888182831615189169981060911046776030041921878667289492\n",
        "plaintext = pow(ciphertext, d, n)\n",
        "print(plaintext)"
      ],
      "execution_count": 0,
      "outputs": [
        {
          "output_type": "stream",
          "text": [
            "35957543231369586987116356923369778906898896419336156674706601535\n"
          ],
          "name": "stdout"
        }
      ]
    },
    {
      "cell_type": "code",
      "metadata": {
        "id": "9CI51sLE0Z_T",
        "colab_type": "code",
        "outputId": "a387446c-9ca8-4a64-f4bc-094f71914428",
        "colab": {
          "base_uri": "https://localhost:8080/",
          "height": 35
        }
      },
      "source": [
        "message = binascii.unhexlify(hex(plaintext)[2:]).decode()\n",
        "print(message)"
      ],
      "execution_count": 0,
      "outputs": [
        {
          "output_type": "stream",
          "text": [
            "Who is Alexander Bortnikov?\n"
          ],
          "name": "stdout"
        }
      ]
    },
    {
      "cell_type": "markdown",
      "metadata": {
        "id": "AowDVpDw1s55",
        "colab_type": "text"
      },
      "source": [
        "5: Carol Signature"
      ]
    },
    {
      "cell_type": "code",
      "metadata": {
        "id": "0y3V3d3U1w4r",
        "colab_type": "code",
        "colab": {}
      },
      "source": [
        "n =  675165783015058999747250696593100898855524580839851357422716901254932757710763"
      ],
      "execution_count": 0,
      "outputs": []
    },
    {
      "cell_type": "code",
      "metadata": {
        "id": "wXNoKXMF10IN",
        "colab_type": "code",
        "colab": {}
      },
      "source": [
        "e = pow(2,16) + 1"
      ],
      "execution_count": 0,
      "outputs": []
    },
    {
      "cell_type": "code",
      "metadata": {
        "id": "lN6l2syT14D8",
        "colab_type": "code",
        "colab": {}
      },
      "source": [
        "signed_message = 284741839593698522184778360417494843180877037145726733862568997913589354461044"
      ],
      "execution_count": 0,
      "outputs": []
    },
    {
      "cell_type": "code",
      "metadata": {
        "id": "qWZ4mtYU1-dc",
        "colab_type": "code",
        "colab": {}
      },
      "source": [
        "plaintext = pow(signed_message, e, n)"
      ],
      "execution_count": 0,
      "outputs": []
    },
    {
      "cell_type": "code",
      "metadata": {
        "id": "EbMXa5Uv2I2c",
        "colab_type": "code",
        "outputId": "f7a06501-6312-44a3-9ec1-578ea94535a8",
        "colab": {
          "base_uri": "https://localhost:8080/",
          "height": 35
        }
      },
      "source": [
        "message = binascii.unhexlify(hex(plaintext)[2:]).decode()\n",
        "print(message)"
      ],
      "execution_count": 0,
      "outputs": [
        {
          "output_type": "stream",
          "text": [
            "I shot the sheriff\n"
          ],
          "name": "stdout"
        }
      ]
    }
  ]
}