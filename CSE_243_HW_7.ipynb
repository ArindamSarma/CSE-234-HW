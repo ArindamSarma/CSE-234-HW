{
  "nbformat": 4,
  "nbformat_minor": 0,
  "metadata": {
    "colab": {
      "name": "CSE 243 HW 7.ipynb",
      "provenance": [],
      "collapsed_sections": [],
      "authorship_tag": "ABX9TyMwaLEiwJ7SOkgCQYKdDoPl",
      "include_colab_link": true
    },
    "kernelspec": {
      "name": "python3",
      "display_name": "Python 3"
    }
  },
  "cells": [
    {
      "cell_type": "markdown",
      "metadata": {
        "id": "view-in-github",
        "colab_type": "text"
      },
      "source": [
        "<a href=\"https://colab.research.google.com/github/ArindamSarma/CSE-234-HW/blob/master/CSE_243_HW_7.ipynb\" target=\"_parent\"><img src=\"https://colab.research.google.com/assets/colab-badge.svg\" alt=\"Open In Colab\"/></a>"
      ]
    },
    {
      "cell_type": "code",
      "metadata": {
        "id": "usVxcFx2nfQU",
        "colab_type": "code",
        "colab": {
          "base_uri": "https://localhost:8080/",
          "height": 109
        },
        "outputId": "7998ed2c-d274-4ac4-c22f-7152644664de"
      },
      "source": [
        "def ext_euclidean(a, b):\n",
        "\n",
        "    t = u = 1\n",
        "    s = v = 0\n",
        "    while b:\n",
        "        a, (q, b) = b, divmod(a, b)\n",
        "        u, s = s, u - q * s\n",
        "        v, t = t, v - q * t\n",
        "    return a, u, v\n",
        "\n",
        "\n",
        "class Point:\n",
        "\n",
        "    def __init__(self, x, y):\n",
        "\n",
        "        self.x = x\n",
        "        self.y = y\n",
        "\n",
        "    def __str__(self):\n",
        "\n",
        "        return '(' + str(self.x) + ', ' + str(self.y) + ')'\n",
        "\n",
        "    def __eq__(self, p):\n",
        "\n",
        "        if type(self) != type(p):\n",
        "            return False\n",
        "        if self.x == p.x and self.y == p.y:\n",
        "            return True\n",
        "        return False\n",
        "\n",
        "\n",
        "class EllipticCurve:\n",
        "\n",
        "    def __init__(self, a, b, m):\n",
        "\n",
        "        self.a = a\n",
        "        self.b = b\n",
        "        self.m = m\n",
        "\n",
        "    def add(self, p, q):\n",
        "        if p == None:\n",
        "            return q\n",
        "        if q == None:\n",
        "            return p\n",
        "        numerator = (q.y - p.y) % self.m\n",
        "        denominator = (q.x - p.x) % self.m\n",
        "        if denominator == 0:\n",
        "            if p == q:\n",
        "                if p.y == 0:\n",
        "                    return None\n",
        "                inv = ext_euclidean(2 * p.y, self.m)[1]\n",
        "                slope = inv * (3 * p.x ** 2 + self.a) % self.m\n",
        "            else:\n",
        "                return None  \n",
        "        else:\n",
        "            inv = ext_euclidean(denominator, self.m)[1]\n",
        "            slope = inv * numerator % self.m\n",
        "        xr = (slope ** 2 - (p.x + q.x)) % self.m\n",
        "        yr = (slope * (p.x - xr) - p.y) % self.m\n",
        "        return Point(xr, yr)\n",
        "\n",
        "    def mul(self, p, n):\n",
        "        r = None\n",
        "        for b in bin(n)[2:]:\n",
        "            r = self.add(r, r)\n",
        "            if b == '1':\n",
        "                r = self.add(r, p)\n",
        "        return r\n",
        "\n",
        "\n",
        "p = 1579602854473772853128287506817718026426265023617379175335587248616431\n",
        "a = 654624412321892857559038596828572669649402987879847772735693306089759\n",
        "b = 563386056159714380473737077729260896240517015706612537779563193095411    \n",
        "ec = EllipticCurve(a, b, p)\n",
        "\n",
        "gen = Point(953216670857201615849458843136747040308850692140282160349854110301248, 187696769665068572312633292858802066603155820538026405642457554453538)\n",
        "\n",
        "alice_private = 814709178348331822963098404943044035246972495353080501869149056740241 \n",
        "bob_private = 1016189342726403936529228449371555925007815563308599801179551629341341\n",
        "\n",
        "alice_public = ec.mul(gen, alice_private)\n",
        "print(\"alice public key:\", alice_public)\n",
        "\n",
        "bob_public = B = ec.mul(gen, bob_private)\n",
        "print(\"bob public key:\", bob_public) \n",
        "\n",
        "alice_shared_key = ec.mul(bob_public, alice_private).x\n",
        "print(\"alice shared key:\", alice_shared_key)\n",
        "\n",
        "bob_shared_key = ec.mul(alice_public, bob_private).x\n",
        "print(\"bob shared key:\", bob_shared_key)\n",
        "\n",
        "sum_public = ec.add(alice_public, bob_public)\n",
        "print(\"sum of public keys\", sum_public)\n",
        "\n",
        "\n"
      ],
      "execution_count": 11,
      "outputs": [
        {
          "output_type": "stream",
          "text": [
            "alice public key: (206474007432809662008592774412022452829947608507049485813245868745205, 1547912586466968405698687400773911979547738625923583720638631485003658)\n",
            "bob public key: (535377848436903725561513978806545544955189499432398898100001344885024, 1243342881519675194827507420432379415898895890265377719735503123140604)\n",
            "alice shared key: 558182816175593461819448017925007411467699084302288113522621993352806\n",
            "bob shared key: 558182816175593461819448017925007411467699084302288113522621993352806\n",
            "sum of public keys (1539419447207941126618666647077580618449188600173648639178954466689895, 863461201378162783097181350547723265076301550772710514668707909389153)\n"
          ],
          "name": "stdout"
        }
      ]
    }
  ]
}