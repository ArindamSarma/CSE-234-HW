{
  "nbformat": 4,
  "nbformat_minor": 0,
  "metadata": {
    "colab": {
      "name": "HW-4.ipynb",
      "provenance": [],
      "authorship_tag": "ABX9TyMKQrCby9ZxRmxEHMXGdFgj",
      "include_colab_link": true
    },
    "kernelspec": {
      "name": "python3",
      "display_name": "Python 3"
    }
  },
  "cells": [
    {
      "cell_type": "markdown",
      "metadata": {
        "id": "view-in-github",
        "colab_type": "text"
      },
      "source": [
        "<a href=\"https://colab.research.google.com/github/ArindamSarma/CSE-234-HW/blob/master/HW_4.ipynb\" target=\"_parent\"><img src=\"https://colab.research.google.com/assets/colab-badge.svg\" alt=\"Open In Colab\"/></a>"
      ]
    },
    {
      "cell_type": "code",
      "metadata": {
        "id": "Cc7xX_Qra0YA",
        "colab_type": "code",
        "colab": {}
      },
      "source": [
        "import sympy"
      ],
      "execution_count": 0,
      "outputs": []
    },
    {
      "cell_type": "code",
      "metadata": {
        "id": "GGWQMvqhbDVR",
        "colab_type": "code",
        "colab": {}
      },
      "source": [
        "p = 2649376219191757686333291073027588009793925231566294290337286424331787812414080960960191670815548639"
      ],
      "execution_count": 0,
      "outputs": []
    },
    {
      "cell_type": "code",
      "metadata": {
        "id": "XkiqHrLQa4TM",
        "colab_type": "code",
        "colab": {
          "base_uri": "https://localhost:8080/",
          "height": 35
        },
        "outputId": "f3cd31b2-280d-4f44-8acb-07e691ec1eff"
      },
      "source": [
        "print(sympy.isprime(p))"
      ],
      "execution_count": 7,
      "outputs": [
        {
          "output_type": "stream",
          "text": [
            "True\n"
          ],
          "name": "stdout"
        }
      ]
    },
    {
      "cell_type": "code",
      "metadata": {
        "id": "MHXLtdGfbGQf",
        "colab_type": "code",
        "colab": {}
      },
      "source": [
        "q = (p-1)//2"
      ],
      "execution_count": 0,
      "outputs": []
    },
    {
      "cell_type": "code",
      "metadata": {
        "id": "lvp5Q0LYbrAW",
        "colab_type": "code",
        "colab": {
          "base_uri": "https://localhost:8080/",
          "height": 35
        },
        "outputId": "2fcf7650-41c9-444c-ded3-21447844413b"
      },
      "source": [
        "print(sympy.isprime(q))"
      ],
      "execution_count": 14,
      "outputs": [
        {
          "output_type": "stream",
          "text": [
            "True\n"
          ],
          "name": "stdout"
        }
      ]
    },
    {
      "cell_type": "code",
      "metadata": {
        "id": "N1wd6Ulhb439",
        "colab_type": "code",
        "colab": {
          "base_uri": "https://localhost:8080/",
          "height": 35
        },
        "outputId": "1fdd5970-c468-486c-b84b-0931616b5a32"
      },
      "source": [
        "print(q)"
      ],
      "execution_count": 13,
      "outputs": [
        {
          "output_type": "stream",
          "text": [
            "1324688109595878843166645536513794004896962615783147145168643212165893906207040480480095835407774319\n"
          ],
          "name": "stdout"
        }
      ]
    },
    {
      "cell_type": "code",
      "metadata": {
        "id": "Ja5nRrHmgU5B",
        "colab_type": "code",
        "colab": {}
      },
      "source": [
        "#for all integers from 2 to 20, using them as generators mod n gives you orders larger than 1 or 2. If their order is not q, then their order must be p-1, making them a full order generator\n",
        "#this should work, but takes way to long to calculate\n",
        "for x in range(1, 21):\n",
        "  y = 2\n",
        "  z = 0\n",
        "  c = 0\n",
        "  while(1):\n",
        "    z = pow(x, y, n)\n",
        "    if(z==x): break\n",
        "    c += 1\n",
        "    if c > q: \n",
        "      print(x)\n",
        "      break\n",
        "    y += 1\n",
        "\n",
        "\n"
      ],
      "execution_count": 0,
      "outputs": []
    }
  ]
}