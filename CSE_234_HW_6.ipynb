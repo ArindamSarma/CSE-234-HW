{
  "nbformat": 4,
  "nbformat_minor": 0,
  "metadata": {
    "colab": {
      "name": "CSE 234 HW 6.ipynb",
      "provenance": [],
      "collapsed_sections": [],
      "authorship_tag": "ABX9TyOplq314x3F/VPgcJIJXbkU",
      "include_colab_link": true
    },
    "kernelspec": {
      "name": "python3",
      "display_name": "Python 3"
    }
  },
  "cells": [
    {
      "cell_type": "markdown",
      "metadata": {
        "id": "view-in-github",
        "colab_type": "text"
      },
      "source": [
        "<a href=\"https://colab.research.google.com/github/ArindamSarma/CSE-234-HW/blob/master/CSE_234_HW_6.ipynb\" target=\"_parent\"><img src=\"https://colab.research.google.com/assets/colab-badge.svg\" alt=\"Open In Colab\"/></a>"
      ]
    },
    {
      "cell_type": "markdown",
      "metadata": {
        "id": "fN6cR2pbGcC_",
        "colab_type": "text"
      },
      "source": [
        "Used this as a source for working with Elliptic Curves: https://jeremykun.com/2014/02/10/elliptic-curves-as-elementary-equations/"
      ]
    },
    {
      "cell_type": "code",
      "metadata": {
        "id": "Ft723rQwc01r",
        "colab_type": "code",
        "colab": {}
      },
      "source": [
        "import math\n",
        "from fractions import Fraction"
      ],
      "execution_count": 0,
      "outputs": []
    },
    {
      "cell_type": "markdown",
      "metadata": {
        "id": "QHKc1I-cc5GK",
        "colab_type": "text"
      },
      "source": [
        "\\#2.1\n"
      ]
    },
    {
      "cell_type": "code",
      "metadata": {
        "id": "K_LIRk5Hc4LC",
        "colab_type": "code",
        "colab": {
          "base_uri": "https://localhost:8080/",
          "height": 35
        },
        "outputId": "2f5bafad-3549-45b8-825c-87e842002026"
      },
      "source": [
        "x = 0\n",
        "y = 4\n",
        "z = (math.pow(x,3) + 2*x + 3 - math.pow(y, 2)) % 13\n",
        "print(z)"
      ],
      "execution_count": 4,
      "outputs": [
        {
          "output_type": "stream",
          "text": [
            "0.0\n"
          ],
          "name": "stdout"
        }
      ]
    },
    {
      "cell_type": "markdown",
      "metadata": {
        "id": "qhft47Ji7SKS",
        "colab_type": "text"
      },
      "source": [
        "\\#4.1"
      ]
    },
    {
      "cell_type": "code",
      "metadata": {
        "id": "j0mj1RRKm9VD",
        "colab_type": "code",
        "colab": {}
      },
      "source": [
        "a= 654624412321892857559038596828572669649402987879847772735693306089759\n",
        "b= 563386056159714380473737077729260896240517015706612537779563193095411\n",
        "p= 1579602854473772853128287506817718026426265023617379175335587248616431\n",
        "x= 953216670857201615849458843136747040308850692140282160349854110301248\n",
        "y= 187696769665068572312633292858802066603155820538026405642457554453538\n",
        "n= 230768357842901099381188113760304602568543491144769691849643435691536"
      ],
      "execution_count": 0,
      "outputs": []
    },
    {
      "cell_type": "code",
      "metadata": {
        "id": "2c_8qcagnSGS",
        "colab_type": "code",
        "colab": {
          "base_uri": "https://localhost:8080/",
          "height": 35
        },
        "outputId": "55ba451d-2890-4911-8e24-81af4e987078"
      },
      "source": [
        "#Hasse's Bounds\n",
        "lower = p + 1 - (2*pow(p,0.5))\n",
        "upper = p + 1 + (2*pow(p,0.5))\n",
        "print(lower, \" <= Ep <= \", upper)"
      ],
      "execution_count": 55,
      "outputs": [
        {
          "output_type": "stream",
          "text": [
            "1.579602854473773e+69  <= Ep <=  1.579602854473773e+69\n"
          ],
          "name": "stdout"
        }
      ]
    },
    {
      "cell_type": "markdown",
      "metadata": {
        "id": "CwLHDDx-I2HD",
        "colab_type": "text"
      },
      "source": [
        "\\#4.2"
      ]
    },
    {
      "cell_type": "code",
      "metadata": {
        "id": "9XcNzUlMI1LP",
        "colab_type": "code",
        "colab": {}
      },
      "source": [
        "def modInverse(a, m) : \n",
        "    a = a % m; \n",
        "    for x in range(1, m) : \n",
        "        if ((a * x) % m == 1) : \n",
        "            return x \n",
        "    return 1"
      ],
      "execution_count": 0,
      "outputs": []
    },
    {
      "cell_type": "code",
      "metadata": {
        "id": "5kei8eFz18lN",
        "colab_type": "code",
        "colab": {}
      },
      "source": [
        "class EllipticCurve(object):\n",
        "   def __init__(self, a, b):\n",
        "      self.a = a\n",
        "      self.b = b\n",
        "\n",
        "   def __eq__(self, other):\n",
        "      return (self.a, self.b) == (other.a, other.b)\n",
        "\n",
        "class Point(object):\n",
        "   def __init__(self, curve, x, y):\n",
        "      self.curve = curve \n",
        "      self.x = x\n",
        "      self.y = y\n",
        "   def __str__(self):\n",
        "      return \"(%r, %r)\" % (self.x, self.y)\n",
        "   def __repr__(self):\n",
        "      return str(self)\n",
        "   def __neg__(self):\n",
        "      return Point(self.curve, self.x, -self.y)\n",
        "   def __add__(self, Q):\n",
        "      global n\n",
        "      if isinstance(Q, Ideal):\n",
        "         return self\n",
        "     \n",
        "      x_1, y_1, x_2, y_2 = self.x, self.y, Q.x, Q.y\n",
        "      \n",
        "      if (x_1, y_1) == (x_2, y_2):\n",
        "         if y_1 == 0:\n",
        "            return Ideal(self.curve)\n",
        "         s = ((3 * math.pow(x_1,2) + self.curve.a)%n) * modInverse((2 * y_1),n)\n",
        "      else:\n",
        "         if x_1 == x_2:\n",
        "            return Ideal(self.curve)\n",
        "         s = ((y_2 - y_1)%n) * modInverse((x_2 - x_1),n)\n",
        "\n",
        "      x_3 = (math.pow(s,2) - x_2 - x_1)%n\n",
        "      y_3 = (s*(x_3 - x_1) + y_1)%n\n",
        "\n",
        "      return Point(self.curve, x_3, y_3)\n",
        "\n",
        "   def __mul__(self, n):\n",
        "      Q = self\n",
        "      R = Ideal(self.curve)\n",
        "      i = 2 \n",
        "      while i <= n:\n",
        "         Q += Q\n",
        "         if n & i == i:\n",
        "             R += Q\n",
        "         i = i << 1\n",
        "      return R\n",
        "   \n",
        "   def __rmul__(self, n):\n",
        "      return self * n\n",
        "   def __list__(self):\n",
        "      return [self.x, self.y]\n",
        "   def __eq__(self, other):\n",
        "      if type(other) is Ideal:\n",
        "         return False\n",
        "      return self.x, self.y == other.x, other.y\n",
        "   def __ne__(self, other):\n",
        "      return not self == other\n",
        "   def __getitem__(self, index):\n",
        "      return [self.x, self.y][index]\n",
        "\n",
        "\n",
        "class Ideal(Point):\n",
        "   def __init__(self, curve):\n",
        "      self.curve = curve\n",
        "   def __neg__(self):\n",
        "      return self\n",
        "   def __add__(self, Q):\n",
        "      return Q\n",
        "   def __mul__(self, n):\n",
        "      return self\n",
        "   def __eq__(self, other):\n",
        "      return type(other) is Ideal"
      ],
      "execution_count": 0,
      "outputs": []
    },
    {
      "cell_type": "code",
      "metadata": {
        "id": "c4dPBmhNHwrD",
        "colab_type": "code",
        "colab": {}
      },
      "source": [
        "Curve = EllipticCurve(Fraction(a), Fraction(b))\n",
        "P = Point(Curve, Fraction(x), Fraction(y))"
      ],
      "execution_count": 0,
      "outputs": []
    },
    {
      "cell_type": "code",
      "metadata": {
        "id": "kfjU3pmAKMhX",
        "colab_type": "code",
        "colab": {}
      },
      "source": [
        "print(n*P)"
      ],
      "execution_count": 0,
      "outputs": []
    }
  ]
}